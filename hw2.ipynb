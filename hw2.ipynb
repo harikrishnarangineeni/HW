{
 "cells": [
  {
   "cell_type": "markdown",
   "metadata": {},
   "source": [
    "### Random Walk (15 Points)\n",
    "\n",
    "Imagine you are standing at (0,0) on the real plane. At every time step, assume you either take a unit step in one of the four directions (right, left, up, down) with equal probability. This means that after one time step, your new location can be (1,0), (-1,0), (0,1) or (0,-1) with equal probability.\n",
    "\n",
    "For this, create a class `Walker`. The class needs to store the following information:\n",
    "- current position of the walker, where the position is a 2-tuple. You can initialize it to (0,0)\n",
    "- path taken so far by the walker (initially this list will only contain the current position)\n",
    "- method called ``getDirection()`` that determines the direction for the next step (one out of four possible directions: right, left, up, down). To determine the direction, sample a random value from the set {1,2,3,4} using `np.random.randint(0,N)` and assign each outcome to a unit step movement in a particular direction.\n",
    "- method called ``walk()`` which changes the current position of the walker in a specifed direction. Make sure to update the path field to incorporate the next position.\n",
    "\n",
    "After implementing the `Walker` class, you need to conduct the following experiment.\n",
    "Suppose you want to figure out, how many steps will it take for the walker to go outside a pre-defined perimeter (centered at (0,0)). You will have simulate a random walk and keep checking the current position to figure that out. \n",
    "\n",
    "Write a code to run the following simulation:\n",
    "Starting from (0,0), have your walker randomly walk around (using the defined ``walk()`` method), until it steps out of a rectangular area with vertices as: (-4,-4), (-4,4), (4,4), (4,-4). Count the number of steps taken before the walker leaves the area. Repeat the simulation 5 times and report the average number of steps taken by the walker before it exits the area.\n",
    "\n",
    "Plot the path taken in each of the 5 simulation runs (you should all five walks in one graph using different colors)."
   ]
  },
  {
   "cell_type": "code",
   "execution_count": 2,
   "metadata": {},
   "outputs": [
    {
     "name": "stdout",
     "output_type": "stream",
     "text": [
      "averagestepout: 20.0\n"
     ]
    },
    {
     "data": {
      "image/png": "[encoded data removed]",
      "text/plain": [
       "<matplotlib.figure.Figure at 0x20be05e9fd0>"
      ]
     },
     "metadata": {},
     "output_type": "display_data"
    }
   ],
   "source": [
    "import random\n",
    "import numpy as np\n",
    "import matplotlib.pyplot as plt\n",
    "%matplotlib inline\n",
    "\n",
    "class walker():\n",
    "    \n",
    "    \n",
    "    def getDirection(self):\n",
    "        direction=np.random.randint(1,5)\n",
    "        if direction==1:\n",
    "            return [0,1]\n",
    "        elif direction==2:\n",
    "            return [0,-1]\n",
    "        elif direction==3:\n",
    "            return [1,0]\n",
    "        else:\n",
    "            return [-1,0]\n",
    "    \n",
    "    \n",
    "    def walk(self,current_pos,a,b):\n",
    "        final_pos = [current_pos[0]+a,current_pos[1]+b]\n",
    "            \n",
    "        return final_pos\n",
    "\n",
    "\n",
    "k=[]\n",
    "for i in range(1,6):\n",
    "    w=walker()\n",
    "    current_pos=(0,0)\n",
    "    listofx=[]\n",
    "    listofy=[]\n",
    "    totallist=[]\n",
    "    stepout=0\n",
    "    while(abs(current_pos[0])<=4 and abs(current_pos[1])<=4):\n",
    "        a,b=w.getDirection()\n",
    "        c=current_pos\n",
    "        current_pos=w.walk(c,a,b) \n",
    "        totallist.append(c)\n",
    "        listofx.append(c[0])\n",
    "        listofy.append(c[1])\n",
    "        stepout=stepout+1\n",
    "    \n",
    "        plt.plot(listofx, listofy)\n",
    "    k.append(stepout)\n",
    "\n",
    "\n",
    "print(\"averagestepout:\",np.mean(k))\n",
    "        \n",
    "           \n",
    "        "
   ]
  },
  {
   "cell_type": "markdown",
   "metadata": {},
   "source": [
    "### Inverse Transform Sampling (10 Points)\n",
    "\n",
    "Random sample for any distribution can be generated from a random sample from uniform distribution. This can be done using **Inverse transform Sampling**. For example, suppose you want to create a sample of size $n$ from an _exponential distribution_. To obtain this sample:\n",
    "1. Generate a sample of size $n$ from Uniform[0,1].\n",
    "2. Identify the inverse of the CDF function of the distribution of your choice (this needs to be done manually and implemented). In our example, it is exponential distribution. Call this function ``inverseCDFExponential()``. Note that you are not allowed to use any routines from ``np.random`` package here. This function should take two arguments, first is the sample point, and the second is the distribution parameter value, $\\lambda$.\n",
    "3. Apply the ``inverseCDFExponential()`` function on each of the $n$ sample points that you generated in step 1. The $n$ outputs will be the sample from your desired distribution. \n",
    "\n",
    "Using the above implementation, generate a sample of size 100 from an  Exponential ($\\lambda=4$) distribution.\n",
    "\n",
    "Your output must include the mean, variance and distribution plot (a histogram) for the generated sample. "
   ]
  },
  {
   "cell_type": "code",
   "execution_count": 3,
   "metadata": {},
   "outputs": [
    {
     "name": "stdout",
     "output_type": "stream",
     "text": [
      "Mean: 0.255710133198\n",
      "Variance: 0.0735766351504\n"
     ]
    },
    {
     "data": {
      "image/png": "[encoded data removed]",
      "text/plain": [
       "<matplotlib.figure.Figure at 0x20be05c5860>"
      ]
     },
     "metadata": {},
     "output_type": "display_data"
    }
   ],
   "source": [
    "import numpy as np\n",
    "import matplotlib.pyplot as plt\n",
    "\n",
    "def inverseCDFExponential(λ):\n",
    "    data=np.linspace(0.001,1,100)\n",
    "    for i in range(0, len(data)):\n",
    "        data[i] = (-1/λ) * np.log(data[i])\n",
    "\n",
    "    return(data)\n",
    "\n",
    "plt.hist(inverseCDFExponential(4))\n",
    "\n",
    "m=np.mean(inverseCDFExponential(4))\n",
    "print(\"Mean:\",m)\n",
    "v=np.var(inverseCDFExponential(4))\n",
    "print(\"Variance:\",v)"
   ]
  }
 ],
 "metadata": {
  "kernelspec": {
   "display_name": "Python 3",
   "language": "python",
   "name": "python3"
  },
  "language_info": {
   "codemirror_mode": {
    "name": "ipython",
    "version": 3
   },
   "file_extension": ".py",
   "mimetype": "text/x-python",
   "name": "python",
   "nbconvert_exporter": "python",
   "pygments_lexer": "ipython3",
   "version": "3.6.3"
  }
 },
 "nbformat": 4,
 "nbformat_minor": 2
}
